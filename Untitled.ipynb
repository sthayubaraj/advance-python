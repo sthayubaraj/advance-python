{
 "cells": [
  {
   "cell_type": "code",
   "execution_count": 1,
   "id": "0081506e-6a29-411c-8d98-337b21cb3bda",
   "metadata": {},
   "outputs": [
    {
     "data": {
      "text/plain": [
       "5"
      ]
     },
     "execution_count": 1,
     "metadata": {},
     "output_type": "execute_result"
    }
   ],
   "source": [
    "a=5\n",
    "a\n"
   ]
  },
  {
   "cell_type": "markdown",
   "id": "86feb864-613c-4d72-ad04-74052a1bf10b",
   "metadata": {},
   "source": [
    "writing for the python code "
   ]
  },
  {
   "cell_type": "code",
   "execution_count": 2,
   "id": "2b2387b2-74cb-422b-bbf8-b434765dc83d",
   "metadata": {},
   "outputs": [],
   "source": [
    "b=6"
   ]
  },
  {
   "cell_type": "code",
   "execution_count": 3,
   "id": "d6d4a5f1-3207-4c77-a8f0-089953784bdd",
   "metadata": {},
   "outputs": [],
   "source": [
    "sum = a+b\n"
   ]
  },
  {
   "cell_type": "code",
   "execution_count": 4,
   "id": "8dc317e4-b0ff-4bbe-b064-7ebaee7afb89",
   "metadata": {},
   "outputs": [
    {
     "data": {
      "text/plain": [
       "11"
      ]
     },
     "execution_count": 4,
     "metadata": {},
     "output_type": "execute_result"
    }
   ],
   "source": [
    "sum"
   ]
  },
  {
   "cell_type": "markdown",
   "id": "813d7034-a7ce-4467-9cbe-36c808feb110",
   "metadata": {},
   "source": [
    "printing result"
   ]
  },
  {
   "cell_type": "code",
   "execution_count": null,
   "id": "711f1d50-8bd3-4fd1-a3f9-f3d4b1e82c26",
   "metadata": {},
   "outputs": [],
   "source": []
  }
 ],
 "metadata": {
  "kernelspec": {
   "display_name": "Python 3 (ipykernel)",
   "language": "python",
   "name": "python3"
  },
  "language_info": {
   "codemirror_mode": {
    "name": "ipython",
    "version": 3
   },
   "file_extension": ".py",
   "mimetype": "text/x-python",
   "name": "python",
   "nbconvert_exporter": "python",
   "pygments_lexer": "ipython3",
   "version": "3.12.2"
  }
 },
 "nbformat": 4,
 "nbformat_minor": 5
}
